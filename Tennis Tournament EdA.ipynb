{
 "cells": [
  {
   "cell_type": "markdown",
   "id": "3e54f453",
   "metadata": {},
   "source": [
    "# ITNPBD2 Autumn 2023 Resit Assignment\n",
    "## ATP Tennis Tournament Data from 2000\n",
    "\n",
    "The following cells contain tasks for you to perform using a data file provided. The file contains data from ATP tennis tournaments from the year 2000. Please follow the instructions carefully and provide code to answer each question. Make sure you comment your code thoroughly. Some questions ask for specific comments, so make sure you provide those where necessary.\n",
    "\n",
    "## The Data\n",
    "Download the file called `atp_matches_2000.csv` from Canvas and store it on your computer. This is the file you will use for this assignment\n"
   ]
  },
  {
   "cell_type": "markdown",
   "id": "4afddf11",
   "metadata": {},
   "source": [
    "## What Help Can You Get?\n",
    "You may look up the syntax for any of the python code you want to use, and you can look for answers online in places such as stack overflow.\n",
    "\n",
    "You can also use generative AI to get ideas that might help.\n",
    "\n",
    "Every question below has space for you to write your code, and space for you to explain how you found the answer. Use the second cell to describe where you found help or inspiration for each answer. If you did not need to look anything up, just right \"Own Work\". If you used generative AI (like GPT or copilot) say what you used and say what you did to verify that the answer was correct.\n",
    "\n",
    "In this space, also say what you searched for or what prompt you used for GPT. For example:\n",
    "\n",
    "If a question requires you to find all the rows in a dataframe that contain a value greater than 50 in a certain field, you might say:\n",
    "\n",
    "I searched for 'search pandas dataframe' and looked at the page at 'https://pandas.pydata.org/docs/reference/api/pandas.DataFrame.query.html'"
   ]
  },
  {
   "cell_type": "markdown",
   "id": "bf931c60",
   "metadata": {},
   "source": [
    "## Part One - Basic File Handling\n",
    "In the first cell below, open the file and read the contents into a list of strings. Use the basic python `open()` function, not an imported module. Print the first 10 rows from the file onto the screen in a format that makes it easy to see each row separately"
   ]
  },
  {
   "cell_type": "code",
   "execution_count": null,
   "id": "a3bae6f3",
   "metadata": {},
   "outputs": [],
   "source": [
    "# Type your code here\n",
    "file_path = \"atp_matches_2000.csv\"\n",
    "\n",
    "with open(file_path, 'r') as file:\n",
    "    lines = [line.strip() for line in file.readlines()]\n",
    "\n",
    "# Print the first 10 rows in the list of strings\n",
    "print(lines[:10])"
   ]
  },
  {
   "cell_type": "markdown",
   "id": "e61dae89",
   "metadata": {},
   "source": [
    "Describe how you found the answer here"
   ]
  },
  {
   "cell_type": "markdown",
   "id": "ebef68c3",
   "metadata": {},
   "source": [
    " Ans: \"Own Work\""
   ]
  },
  {
   "cell_type": "markdown",
   "id": "4f57daed",
   "metadata": {},
   "source": [
    "## Split the rows into tokens\n",
    "Now split each row into individual entries and store the results in a two dimensional list that represents the tabular data from the file. Make sure you store the field names (the first row of the file) in a separate list, not in the table of data.\n",
    "\n",
    "Print the column headings and the first two rows of data."
   ]
  },
  {
   "cell_type": "code",
   "execution_count": null,
   "id": "c29e649a",
   "metadata": {},
   "outputs": [],
   "source": [
    "# Type your code here\n",
    "file_path = \"atp_matches_2000.csv\"\n",
    "\n",
    "with open(file_path, 'r') as file:\n",
    "    lines = [line.strip().split(',') for line in file.readlines()]\n",
    "\n",
    "# Separate the field names and the data\n",
    "field_names = lines[0]\n",
    "data = lines[1:]\n",
    "\n",
    "# Print column headings\n",
    "print(\"Column Headings:\")\n",
    "print(field_names)\n",
    "\n",
    "# Print the first two rows of data\n",
    "print(\"\\nFirst two rows of data:\")\n",
    "for row in data[:2]:\n",
    "    print(row)"
   ]
  },
  {
   "cell_type": "markdown",
   "id": "588c66b5",
   "metadata": {},
   "source": [
    "Describe how you found the answer here"
   ]
  },
  {
   "cell_type": "code",
   "execution_count": null,
   "id": "d7c16715",
   "metadata": {},
   "outputs": [],
   "source": [
    "Ans: \"Own Work\""
   ]
  },
  {
   "cell_type": "markdown",
   "id": "09088a57",
   "metadata": {},
   "source": [
    "## Write a Function to Calculate an Average\n",
    "Write a function that accepts a list of numbers and returns their average. Do this by writing code to add up the numbers and divide by how many there are (don't use any built in functions).\n",
    "\n",
    "First show that the function works by calling it with the list `[1, 2, 3]` - the result should be 2.\n",
    "\n",
    "Then use it to calculate the average height of all tournament winners by passing the data from the column called `winner_ht`.\n",
    "\n",
    "Note that some of the height values are empty, so your average function must spot those and ignore them.\n",
    "\n",
    "The answer should be 184.80318822808093"
   ]
  },
  {
   "cell_type": "code",
   "execution_count": null,
   "id": "8e703b53",
   "metadata": {},
   "outputs": [],
   "source": [
    "def calculate_average(numbers):\n",
    "    total = 0\n",
    "    count = 0\n",
    "\n",
    "    for num in numbers:\n",
    "        total += num\n",
    "        count += 1\n",
    "\n",
    "    if count != 0:\n",
    "        average = total / count\n",
    "        return average\n",
    "    else:\n",
    "        return None\n",
    "\n",
    "# Test the function with [1, 2, 3]\n",
    "test_data = [1, 2, 3]\n",
    "result = calculate_average(test_data)\n",
    "print(\"Average of [1, 2, 3]:\", result)"
   ]
  },
  {
   "cell_type": "code",
   "execution_count": null,
   "id": "c57c5e79",
   "metadata": {},
   "outputs": [],
   "source": [
    "# Type your code here\n",
    "def calculate_average(numbers):\n",
    "    total = 0\n",
    "    count = 0\n",
    "\n",
    "    for num in numbers:\n",
    "        total += num\n",
    "        count += 1\n",
    "\n",
    "    if count != 0:\n",
    "        average = total / count\n",
    "        return average\n",
    "    else:\n",
    "        return None\n",
    "\n",
    "file_path = \"atp_matches_2000.csv\"\n",
    "\n",
    "with open(file_path, 'r') as file:\n",
    "    lines = [line.strip().split(',') for line in file.readlines()]\n",
    "\n",
    "# Find the index of the column 'winner_ht'\n",
    "header = lines[0]\n",
    "winner_ht_index = header.index('winner_ht')\n",
    "\n",
    "# Extract the winner heights, excluding empty values\n",
    "winner_heights = [float(line[winner_ht_index]) for line in lines[1:] if line[winner_ht_index].strip()]\n",
    "\n",
    "# Calculate and print the average height of tournament winners\n",
    "average_height = calculate_average(winner_heights)\n",
    "print(\"Average height of tournament winners:\", average_height)\n"
   ]
  },
  {
   "cell_type": "markdown",
   "id": "cf559d05",
   "metadata": {},
   "source": [
    "ANS : Average height of tournament winners: 184.80318822808093"
   ]
  },
  {
   "cell_type": "markdown",
   "id": "a6a64488",
   "metadata": {},
   "source": [
    "## Now Use Python Libraries\n",
    "The following questions can be answered using pandas and pyplot from matplotlib. Import these libraries below"
   ]
  },
  {
   "cell_type": "code",
   "execution_count": null,
   "id": "aac12f70",
   "metadata": {},
   "outputs": [],
   "source": [
    "# Type your code here\n",
    "import pandas as pd\n",
    "import matplotlib.pyplot as plt"
   ]
  },
  {
   "cell_type": "markdown",
   "id": "289e1666",
   "metadata": {},
   "source": [
    "Describe how you found the answer here"
   ]
  },
  {
   "cell_type": "markdown",
   "id": "9cb3eea5",
   "metadata": {},
   "source": [
    "Ans: \"Own Work\""
   ]
  },
  {
   "cell_type": "markdown",
   "id": "bbe9b68d",
   "metadata": {},
   "source": [
    "## Read the Data into Pandas\n",
    "Read the data file into a pandas dataframe and display the first 5 rows."
   ]
  },
  {
   "cell_type": "code",
   "execution_count": null,
   "id": "53f3eb19",
   "metadata": {},
   "outputs": [],
   "source": [
    "# Type your code here\n",
    "df =pd.read_csv(\"atp_matches_2000.csv\")\n",
    "df.head(10)"
   ]
  },
  {
   "cell_type": "markdown",
   "id": "80af6f75",
   "metadata": {},
   "source": [
    "Describe how you found the answer here"
   ]
  },
  {
   "cell_type": "markdown",
   "id": "5fefb4e0",
   "metadata": {},
   "source": [
    "Ans: \"Own Work\""
   ]
  },
  {
   "cell_type": "markdown",
   "id": "6ca4eefc",
   "metadata": {},
   "source": [
    "## Print the Column Headings from the Data Frame\n",
    "Print the column heading names from the dataframe as a list."
   ]
  },
  {
   "cell_type": "code",
   "execution_count": null,
   "id": "ea9ee923",
   "metadata": {},
   "outputs": [],
   "source": [
    "# Type your code here\n",
    "df.columns"
   ]
  },
  {
   "cell_type": "markdown",
   "id": "e6a1564d",
   "metadata": {},
   "source": [
    "Describe how you found the answer here"
   ]
  },
  {
   "cell_type": "markdown",
   "id": "22ec6787",
   "metadata": {},
   "source": [
    "Ans: \"Own Work\""
   ]
  },
  {
   "cell_type": "markdown",
   "id": "8afa5f41",
   "metadata": {},
   "source": [
    "## Calculate the Average Winning Player Height\n",
    "Use the appropriate pandas function to calculate the mean winner height from the `winner_ht` field. Does it match your result from above?"
   ]
  },
  {
   "cell_type": "code",
   "execution_count": null,
   "id": "4bd611ad",
   "metadata": {},
   "outputs": [],
   "source": [
    "# Type your code here\n",
    "mean_winner_height = df['winner_ht'].mean()\n",
    "\n",
    "print(\"Mean winner height using pandas:\", mean_winner_height)"
   ]
  },
  {
   "cell_type": "markdown",
   "id": "5f9cce5e",
   "metadata": {},
   "source": [
    "ANS :  Mean winner height using pandas: 184.80318822808093"
   ]
  },
  {
   "cell_type": "markdown",
   "id": "13fb2f57",
   "metadata": {},
   "source": [
    "Describe how you found the answer here"
   ]
  },
  {
   "cell_type": "markdown",
   "id": "277ee574",
   "metadata": {},
   "source": [
    "Ans : Yes , the result of mean of winner_ht columns matches from above python functions resluts."
   ]
  },
  {
   "cell_type": "markdown",
   "id": "b536e6d8",
   "metadata": {},
   "source": [
    "## Find all the Unique Tournament Names\n",
    "The field called `tourney_name` tells use the tournament name. Extract a list of unique names and print them."
   ]
  },
  {
   "cell_type": "code",
   "execution_count": null,
   "id": "b0b103df",
   "metadata": {},
   "outputs": [],
   "source": [
    "# Type your code here\n",
    "unique_tournament_names = df['tourney_name'].unique()\n",
    "\n",
    "# Print the unique tournament names\n",
    "print(\"Unique Tournament Names:\")\n",
    "print(unique_tournament_names)"
   ]
  },
  {
   "cell_type": "markdown",
   "id": "1a90599e",
   "metadata": {},
   "source": [
    "Describe how you found the answer here"
   ]
  },
  {
   "cell_type": "markdown",
   "id": "300b37dd",
   "metadata": {},
   "source": [
    "Ans: \"Own Work\""
   ]
  },
  {
   "cell_type": "markdown",
   "id": "73321e7e",
   "metadata": {},
   "source": [
    "## Take a Look at Roger Federer\n",
    "Extract all the games that Roger Federer play in. This will be all those where his name appears in either columns: `winner_name` or `loser_name`. Extract all those rows into a single dataframe called `roger`. It should have 66 rows. Display the first five rows."
   ]
  },
  {
   "cell_type": "code",
   "execution_count": null,
   "id": "f22ad8b7",
   "metadata": {},
   "outputs": [],
   "source": [
    "# Type your code here\n",
    "# Extract games where Roger Federer plays (appears in either winner_name or loser_name)\n",
    "roger= df[df['winner_name'].eq('Roger Federer') | df['loser_name'].eq('Roger Federer')]\n",
    "\n",
    "# Display the first five rows of the roger_games DataFrame\n",
    "print(\"First five rows of Roger Federer's games:\")\n",
    "roger.head()"
   ]
  },
  {
   "cell_type": "code",
   "execution_count": null,
   "id": "aae94c82",
   "metadata": {},
   "outputs": [],
   "source": [
    "roger.shape"
   ]
  },
  {
   "cell_type": "markdown",
   "id": "de6b52d9",
   "metadata": {},
   "source": [
    "Describe how you found the answer here"
   ]
  },
  {
   "cell_type": "markdown",
   "id": "43bb2622",
   "metadata": {},
   "source": [
    "Ans: \"Own Work\""
   ]
  },
  {
   "cell_type": "markdown",
   "id": "aa43126c",
   "metadata": {},
   "source": [
    "## Answer the Following Questions\n",
    "No use the `roger` dataframe to answer the following questions:\n",
    "\n",
    "1. How many matches did Federer win?\n",
    "2. How many matches did Federer lose?\n",
    "3. How many aces did Federer serve at Wimbledon? This is the sum of the columns called `w_ace` and `l_ace`"
   ]
  },
  {
   "cell_type": "code",
   "execution_count": null,
   "id": "827e2c86",
   "metadata": {},
   "outputs": [],
   "source": [
    "# Question 1\n",
    "# How many matches did Federer win?\n",
    "\n",
    "matches_won = (roger['winner_name'] == 'Roger Federer').sum()\n",
    "\n",
    "print(\"Number of matches Roger Federer won:\", matches_won)"
   ]
  },
  {
   "cell_type": "markdown",
   "id": "93eb3200",
   "metadata": {},
   "source": [
    "ANS 1 :  Federer won 36 matches"
   ]
  },
  {
   "cell_type": "code",
   "execution_count": null,
   "id": "6c29a746",
   "metadata": {},
   "outputs": [],
   "source": [
    "# Question 2\n",
    "# How many matches did Federer lose?\n",
    "\n",
    "matches_lost = (roger['loser_name'] == 'Roger Federer').sum()\n",
    "\n",
    "print(\"Number of matches Roger Federer lost:\", matches_lost)"
   ]
  },
  {
   "cell_type": "markdown",
   "id": "81866836",
   "metadata": {},
   "source": [
    "ANS 2 :Federer lose 30 matches ."
   ]
  },
  {
   "cell_type": "code",
   "execution_count": null,
   "id": "a76b5152",
   "metadata": {},
   "outputs": [],
   "source": [
    "# Question 3\n",
    "# Calculate the total number of aces served by Federer at Wimbledon\n",
    "\n",
    "aces_served_wimbledon = roger['w_ace'].sum() + roger['l_ace'].sum()\n",
    "\n",
    "print(\"Total number of aces served by Federer at Wimbledon:\", aces_served_wimbledon)"
   ]
  },
  {
   "cell_type": "markdown",
   "id": "2f1bbffb",
   "metadata": {},
   "source": [
    "Ans 3 :The total number of aces served by Federer at Wimbledon 691."
   ]
  },
  {
   "cell_type": "markdown",
   "id": "fbb36ace",
   "metadata": {},
   "source": [
    "Describe how you found the answer here"
   ]
  },
  {
   "cell_type": "markdown",
   "id": "19a71c33",
   "metadata": {},
   "source": [
    "\"Own WORK\""
   ]
  },
  {
   "cell_type": "markdown",
   "id": "23831c09",
   "metadata": {},
   "source": [
    "## Plot a Scatter Plot Showing `winner_rank` against `loser_rank`\n",
    "Returning to the whole dataset (we can forget Roger for now), plot a scatter graph of winner rank against loser rank. Give the graph a title and label the axes correctly. Comment on what the graph tells you about the data."
   ]
  },
  {
   "cell_type": "code",
   "execution_count": null,
   "id": "e110eef3",
   "metadata": {},
   "outputs": [],
   "source": [
    "# a Scatter plot of winner rank against loser rank\n",
    "\n",
    "plt.scatter(df['winner_rank'], df['loser_rank'], alpha=0.5)\n",
    "plt.title('Scatter Plot of Winner Rank vs Loser Rank')\n",
    "plt.xlabel('Winner Rank')\n",
    "plt.ylabel('Loser Rank')\n",
    "plt.show()"
   ]
  },
  {
   "cell_type": "markdown",
   "id": "bfcc2fec",
   "metadata": {},
   "source": [
    "Describe how you found the answer here"
   ]
  },
  {
   "cell_type": "markdown",
   "id": "39ae3d06",
   "metadata": {},
   "source": [
    "Ans : \"Own Work\""
   ]
  },
  {
   "cell_type": "markdown",
   "id": "6c3af49a",
   "metadata": {},
   "source": [
    "## Plot a Histogram of Winner Ages\n",
    "The column called `winner_age` holds the age of the winner of each match. Plot these ages as a histogram and label both axes and give the plot an appropriate title."
   ]
  },
  {
   "cell_type": "code",
   "execution_count": null,
   "id": "91946d7f",
   "metadata": {},
   "outputs": [],
   "source": [
    "# Create a histogram of winner ages\n",
    "\n",
    "plt.hist(df['winner_age'], bins=20, edgecolor='black')\n",
    "plt.title('Histogram of Winner Ages')\n",
    "plt.xlabel('Age')\n",
    "plt.ylabel('Frequency')\n",
    "plt.show()"
   ]
  },
  {
   "cell_type": "markdown",
   "id": "a3130592",
   "metadata": {},
   "source": [
    "Describe how you found the answer here"
   ]
  },
  {
   "cell_type": "markdown",
   "id": "12820db0",
   "metadata": {},
   "source": [
    "ans : Own Work"
   ]
  },
  {
   "cell_type": "markdown",
   "id": "fdd43b00",
   "metadata": {},
   "source": [
    "## Find the Name of the Player who ...\n",
    "The column `winner_name` contains the name of the winner of each match. Find the name of the player who:\n",
    "\n",
    "1. Is the oldest to win a match, and give their age\n",
    "2. Has won the most matches, and say how many they won\n",
    "3. Served the most aces across all the data. The column `w_ace` counts the aces served by the winner and `l_ace` counts the aces served by the loser. You need to add both columns."
   ]
  },
  {
   "cell_type": "code",
   "execution_count": null,
   "id": "2ecdea87",
   "metadata": {},
   "outputs": [],
   "source": [
    "# Question 1 : Is the oldest to win a match, and give their age\n",
    "\n",
    "# Find the name of the player who is the oldest to win a match\n",
    "\n",
    "oldest_winner = df.loc[df['winner_age'].idxmax(), 'winner_name']\n",
    "oldest_winner_age = df['winner_age'].max()\n",
    "\n",
    "print(\"The name of the oldest player to win a match is:\", oldest_winner)\n",
    "print(\"Their age at the time of winning the match was:\", oldest_winner_age)"
   ]
  },
  {
   "cell_type": "markdown",
   "id": "8199d5fd",
   "metadata": {},
   "source": [
    "Ans 1  : The name of the oldest player to win a match is: Rafael Avalos Brenes\n",
    "\n",
    "        Their age at the time of winning the match was: 38.61"
   ]
  },
  {
   "cell_type": "code",
   "execution_count": null,
   "id": "3488e9fc",
   "metadata": {},
   "outputs": [],
   "source": [
    "# QUESTION 2\n",
    "\n",
    "# Find the name of the player who has won the most matches\n",
    "\n",
    "most_wins_player = df['winner_name'].mode()[0]\n",
    "most_wins_count = df['winner_name'].value_counts().max()\n",
    "\n",
    "print(\"The name of the player who has won the most matches is:\", most_wins_player)\n",
    "print(\"They won a total of:\", most_wins_count, \"matches.\")"
   ]
  },
  {
   "cell_type": "markdown",
   "id": "9f4677ba",
   "metadata": {},
   "source": [
    "Ans : \n",
    "      The name of the player who has won the most matches is: Magnus Norman .\n",
    "\n",
    "      They won a total of: 69 matches."
   ]
  },
  {
   "cell_type": "code",
   "execution_count": null,
   "id": "630bd00f",
   "metadata": {},
   "outputs": [],
   "source": [
    "#QUESTION 3\n",
    "\n",
    "# Sum the number of aces served by each player (winner and loser)\n",
    "\n",
    "total_aces_winner = df['w_ace'].sum()\n",
    "total_aces_loser = df['l_ace'].sum()\n",
    "\n",
    "# Find the name of the player who served the most aces\n",
    "\n",
    "if total_aces_winner > total_aces_loser:\n",
    "    most_aces_player = df['winner_name'][df['w_ace'].idxmax()]\n",
    "    most_aces_count = total_aces_winner\n",
    "else:\n",
    "    most_aces_player = df['loser_name'][df['l_ace'].idxmax()]\n",
    "    most_aces_count = total_aces_loser\n",
    "\n",
    "print(\"The name of the player who served the most aces is:\", most_aces_player)\n",
    "print(\"They served a total of:\", most_aces_count, \"aces.\")\n"
   ]
  },
  {
   "cell_type": "markdown",
   "id": "136cda62",
   "metadata": {},
   "source": [
    "Ans 3 : \n",
    "        The name of the player who served the most aces is: Todd Martin\n",
    "            \n",
    "        They served a total of: 19217.0 aces."
   ]
  },
  {
   "cell_type": "markdown",
   "id": "85a8b28a",
   "metadata": {},
   "source": [
    "Describe how you found the answer here"
   ]
  },
  {
   "cell_type": "markdown",
   "id": "5800754e",
   "metadata": {},
   "source": [
    "with help of chatgpt"
   ]
  },
  {
   "cell_type": "markdown",
   "id": "e025a748",
   "metadata": {},
   "source": [
    "## Select all the Rows That are Not Davis Cup Matches\n",
    "Many of the tournament names are part of the Davis Cup. Create a new dataframe that excludes all the Davis Cup matches. Then select the unique tournament names from the new data frame to show it has worked."
   ]
  },
  {
   "cell_type": "code",
   "execution_count": null,
   "id": "d39a8a63",
   "metadata": {},
   "outputs": [],
   "source": [
    "# Exclude Davis Cup matches\n",
    "\n",
    "df_no_davis_cup = df[~df['tourney_name'].str.contains('Davis Cup')]\n",
    "\n",
    "# Select unique tournament names from the new DataFrame\n",
    "\n",
    "unique_tournament_names_no_davis_cup = df_no_davis_cup['tourney_name'].unique()\n",
    "\n",
    "# Print the unique tournament names to show it has worked\n",
    "\n",
    "print(\"Unique Tournament Names excluding Davis Cup:\")\n",
    "print(unique_tournament_names_no_davis_cup)"
   ]
  },
  {
   "cell_type": "markdown",
   "id": "cc78361b",
   "metadata": {},
   "source": [
    "Describe how you found the answer here"
   ]
  },
  {
   "cell_type": "markdown",
   "id": "08c3fa05",
   "metadata": {},
   "source": [
    "Ans : with the help of chatgpt."
   ]
  },
  {
   "cell_type": "code",
   "execution_count": null,
   "id": "16e5d9a8",
   "metadata": {},
   "outputs": [],
   "source": []
  }
 ],
 "metadata": {
  "kernelspec": {
   "display_name": "Python 3 (ipykernel)",
   "language": "python",
   "name": "python3"
  },
  "language_info": {
   "codemirror_mode": {
    "name": "ipython",
    "version": 3
   },
   "file_extension": ".py",
   "mimetype": "text/x-python",
   "name": "python",
   "nbconvert_exporter": "python",
   "pygments_lexer": "ipython3",
   "version": "3.11.3"
  }
 },
 "nbformat": 4,
 "nbformat_minor": 5
}
